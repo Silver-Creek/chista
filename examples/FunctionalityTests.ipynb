{
 "cells": [
  {
   "cell_type": "code",
   "execution_count": 1,
   "metadata": {
    "ExecuteTime": {
     "end_time": "2020-04-28T12:35:04.802681Z",
     "start_time": "2020-04-28T12:35:01.304046Z"
    }
   },
   "outputs": [
    {
     "name": "stdout",
     "output_type": "stream",
     "text": [
      "Loading default pynomial configurations from C:\\Users\\MostafaHadavand\\.Pynomial\\Configurations.json\n"
     ]
    }
   ],
   "source": [
    "import sys\n",
    "sys.path.append('../')\n",
    "%load_ext autoreload\n",
    "%autoreload 2\n",
    "import pynomial as pyn"
   ]
  },
  {
   "cell_type": "markdown",
   "metadata": {},
   "source": [
    "# Check configurations"
   ]
  },
  {
   "cell_type": "code",
   "execution_count": 2,
   "metadata": {
    "ExecuteTime": {
     "end_time": "2020-04-28T12:35:04.886676Z",
     "start_time": "2020-04-28T12:35:04.804673Z"
    }
   },
   "outputs": [],
   "source": [
    "pyn.Configurations['ETL.DefaultTimeZone'] = 'Canada/Mountain'"
   ]
  },
  {
   "cell_type": "code",
   "execution_count": 3,
   "metadata": {
    "ExecuteTime": {
     "end_time": "2020-04-28T12:35:04.980683Z",
     "start_time": "2020-04-28T12:35:04.889674Z"
    },
    "scrolled": true
   },
   "outputs": [
    {
     "name": "stdout",
     "output_type": "stream",
     "text": [
      "Writing current `Configurations` to system default at: C:\\Users\\MostafaHadavand\\.Pynomial\\Configurations.json\n"
     ]
    }
   ],
   "source": [
    "pyn.Configurations.set_systemdefault()"
   ]
  },
  {
   "cell_type": "markdown",
   "metadata": {},
   "source": [
    "# Check connections"
   ]
  },
  {
   "cell_type": "code",
   "execution_count": 9,
   "metadata": {
    "ExecuteTime": {
     "end_time": "2020-04-28T12:47:35.783608Z",
     "start_time": "2020-04-28T12:47:05.112725Z"
    }
   },
   "outputs": [
    {
     "name": "stdout",
     "output_type": "stream",
     "text": [
      "User ID :rmcadmin\n",
      "Password for rmcadmin:········\n",
      "Successful Connection to rmc-azuresql-01.database.windows.net\n"
     ]
    }
   ],
   "source": [
    "conn = pyn.SqlServerConnection(server='rmc-azuresql-01.database.windows.net', database='RmcEdw')"
   ]
  },
  {
   "cell_type": "code",
   "execution_count": 13,
   "metadata": {},
   "outputs": [
    {
     "data": {
      "text/html": [
       "<div>\n",
       "<style scoped>\n",
       "    .dataframe tbody tr th:only-of-type {\n",
       "        vertical-align: middle;\n",
       "    }\n",
       "\n",
       "    .dataframe tbody tr th {\n",
       "        vertical-align: top;\n",
       "    }\n",
       "\n",
       "    .dataframe thead th {\n",
       "        text-align: right;\n",
       "    }\n",
       "</style>\n",
       "<table border=\"1\" class=\"dataframe\">\n",
       "  <thead>\n",
       "    <tr style=\"text-align: right;\">\n",
       "      <th></th>\n",
       "      <th>name</th>\n",
       "      <th>database_id</th>\n",
       "      <th>source_database_id</th>\n",
       "      <th>owner_sid</th>\n",
       "      <th>create_date</th>\n",
       "      <th>compatibility_level</th>\n",
       "      <th>collation_name</th>\n",
       "      <th>user_access</th>\n",
       "      <th>user_access_desc</th>\n",
       "      <th>is_read_only</th>\n",
       "      <th>...</th>\n",
       "      <th>is_mixed_page_allocation_on</th>\n",
       "      <th>is_temporal_history_retention_enabled</th>\n",
       "      <th>catalog_collation_type</th>\n",
       "      <th>catalog_collation_type_desc</th>\n",
       "      <th>physical_database_name</th>\n",
       "      <th>is_result_set_caching_on</th>\n",
       "      <th>is_accelerated_database_recovery_on</th>\n",
       "      <th>is_tempdb_spill_to_remote_store</th>\n",
       "      <th>is_stale_page_detection_on</th>\n",
       "      <th>is_memory_optimized_enabled</th>\n",
       "    </tr>\n",
       "  </thead>\n",
       "  <tbody>\n",
       "    <tr>\n",
       "      <th>0</th>\n",
       "      <td>master</td>\n",
       "      <td>1</td>\n",
       "      <td>None</td>\n",
       "      <td>b'\\x01\\x06\\x00\\x00\\x00\\x00\\x01d\\x00\\x00\\x00\\x0...</td>\n",
       "      <td>2019-12-05 01:08:48.653</td>\n",
       "      <td>140</td>\n",
       "      <td>SQL_Latin1_General_CP1_CI_AS</td>\n",
       "      <td>0</td>\n",
       "      <td>MULTI_USER</td>\n",
       "      <td>False</td>\n",
       "      <td>...</td>\n",
       "      <td>False</td>\n",
       "      <td>True</td>\n",
       "      <td>2</td>\n",
       "      <td>SQL_Latin1_General_CP1_CI_AS</td>\n",
       "      <td>097c24d7-ab07-4cc9-9da9-cac618de6130</td>\n",
       "      <td>False</td>\n",
       "      <td>True</td>\n",
       "      <td>False</td>\n",
       "      <td>True</td>\n",
       "      <td>True</td>\n",
       "    </tr>\n",
       "    <tr>\n",
       "      <th>1</th>\n",
       "      <td>RmcEdw</td>\n",
       "      <td>6</td>\n",
       "      <td>None</td>\n",
       "      <td>b'\\x01\\x06\\x00\\x00\\x00\\x00\\x01d\\x00\\x00\\x00\\x0...</td>\n",
       "      <td>2020-03-14 00:17:22.837</td>\n",
       "      <td>150</td>\n",
       "      <td>SQL_Latin1_General_CP1_CI_AS</td>\n",
       "      <td>0</td>\n",
       "      <td>MULTI_USER</td>\n",
       "      <td>False</td>\n",
       "      <td>...</td>\n",
       "      <td>False</td>\n",
       "      <td>True</td>\n",
       "      <td>2</td>\n",
       "      <td>SQL_Latin1_General_CP1_CI_AS</td>\n",
       "      <td>097c24d7-ab07-4cc9-9da9-cac618de6130</td>\n",
       "      <td>False</td>\n",
       "      <td>True</td>\n",
       "      <td>False</td>\n",
       "      <td>True</td>\n",
       "      <td>True</td>\n",
       "    </tr>\n",
       "  </tbody>\n",
       "</table>\n",
       "<p>2 rows × 86 columns</p>\n",
       "</div>"
      ],
      "text/plain": [
       "     name  database_id source_database_id  \\\n",
       "0  master            1               None   \n",
       "1  RmcEdw            6               None   \n",
       "\n",
       "                                           owner_sid             create_date  \\\n",
       "0  b'\\x01\\x06\\x00\\x00\\x00\\x00\\x01d\\x00\\x00\\x00\\x0... 2019-12-05 01:08:48.653   \n",
       "1  b'\\x01\\x06\\x00\\x00\\x00\\x00\\x01d\\x00\\x00\\x00\\x0... 2020-03-14 00:17:22.837   \n",
       "\n",
       "   compatibility_level                collation_name  user_access  \\\n",
       "0                  140  SQL_Latin1_General_CP1_CI_AS            0   \n",
       "1                  150  SQL_Latin1_General_CP1_CI_AS            0   \n",
       "\n",
       "  user_access_desc  is_read_only  ...  is_mixed_page_allocation_on  \\\n",
       "0       MULTI_USER         False  ...                        False   \n",
       "1       MULTI_USER         False  ...                        False   \n",
       "\n",
       "   is_temporal_history_retention_enabled  catalog_collation_type  \\\n",
       "0                                   True                       2   \n",
       "1                                   True                       2   \n",
       "\n",
       "    catalog_collation_type_desc                physical_database_name  \\\n",
       "0  SQL_Latin1_General_CP1_CI_AS  097c24d7-ab07-4cc9-9da9-cac618de6130   \n",
       "1  SQL_Latin1_General_CP1_CI_AS  097c24d7-ab07-4cc9-9da9-cac618de6130   \n",
       "\n",
       "   is_result_set_caching_on  is_accelerated_database_recovery_on  \\\n",
       "0                     False                                 True   \n",
       "1                     False                                 True   \n",
       "\n",
       "   is_tempdb_spill_to_remote_store is_stale_page_detection_on  \\\n",
       "0                            False                       True   \n",
       "1                            False                       True   \n",
       "\n",
       "   is_memory_optimized_enabled  \n",
       "0                         True  \n",
       "1                         True  \n",
       "\n",
       "[2 rows x 86 columns]"
      ]
     },
     "execution_count": 13,
     "metadata": {},
     "output_type": "execute_result"
    }
   ],
   "source": [
    "conn.get_database_list()"
   ]
  },
  {
   "cell_type": "code",
   "execution_count": 14,
   "metadata": {},
   "outputs": [
    {
     "name": "stdout",
     "output_type": "stream",
     "text": [
      "The following drivers are provided: \n",
      "SQL Server\n",
      "ODBC Driver 17 for SQL Server\n",
      "SQL Server Native Client 11.0\n"
     ]
    }
   ],
   "source": [
    "conn.drivers"
   ]
  },
  {
   "cell_type": "markdown",
   "metadata": {},
   "source": [
    "# Check Azure access manager"
   ]
  },
  {
   "cell_type": "code",
   "execution_count": 2,
   "metadata": {},
   "outputs": [
    {
     "name": "stdout",
     "output_type": "stream",
     "text": [
      "Client ID was retrieved from AZURE_CLIENT_ID environmental variable\n",
      "Tenant ID: ········\n",
      "Client secret was retrieved from AZURE_CLIENT_SECRET environmental variable\n"
     ]
    }
   ],
   "source": [
    "credential = pyn.SPCredential()"
   ]
  },
  {
   "cell_type": "code",
   "execution_count": 3,
   "metadata": {},
   "outputs": [
    {
     "data": {
      "text/plain": [
       "'rascal'"
      ]
     },
     "execution_count": 3,
     "metadata": {},
     "output_type": "execute_result"
    }
   ],
   "source": [
    "client = pyn.KeyVaultclient(vault_url='https://keyvaulttestinstance.vault.azure.net/', credential=credential)\n",
    "retrieved_secret = client.get_secret('MyPassword')\n",
    "retrieved_secret.value"
   ]
  },
  {
   "cell_type": "code",
   "execution_count": null,
   "metadata": {},
   "outputs": [],
   "source": [
    "## Use this only for Azure AD service-to-service authentication\n",
    "from azure.common.credentials import ServicePrincipalCredentials"
   ]
  }
 ],
 "metadata": {
  "kernelspec": {
   "display_name": "Python 3",
   "language": "python",
   "name": "python3"
  },
  "language_info": {
   "codemirror_mode": {
    "name": "ipython",
    "version": 3
   },
   "file_extension": ".py",
   "mimetype": "text/x-python",
   "name": "python",
   "nbconvert_exporter": "python",
   "pygments_lexer": "ipython3",
   "version": "3.6.10"
  },
  "toc": {
   "base_numbering": 1,
   "nav_menu": {},
   "number_sections": true,
   "sideBar": true,
   "skip_h1_title": false,
   "title_cell": "Table of Contents",
   "title_sidebar": "Contents",
   "toc_cell": false,
   "toc_position": {},
   "toc_section_display": true,
   "toc_window_display": false
  }
 },
 "nbformat": 4,
 "nbformat_minor": 2
}
